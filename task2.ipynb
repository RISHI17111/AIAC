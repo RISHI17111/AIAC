{
  "nbformat": 4,
  "nbformat_minor": 0,
  "metadata": {
    "colab": {
      "provenance": [],
      "authorship_tag": "ABX9TyMJG1XsGHdiqF5nkbu10//N",
      "include_colab_link": true
    },
    "kernelspec": {
      "name": "python3",
      "display_name": "Python 3"
    },
    "language_info": {
      "name": "python"
    }
  },
  "cells": [
    {
      "cell_type": "markdown",
      "metadata": {
        "id": "view-in-github",
        "colab_type": "text"
      },
      "source": [
        "<a href=\"https://colab.research.google.com/github/RISHI17111/AIAC/blob/main/task2.ipynb\" target=\"_parent\"><img src=\"https://colab.research.google.com/assets/colab-badge.svg\" alt=\"Open In Colab\"/></a>"
      ]
    },
    {
      "cell_type": "code",
      "execution_count": 1,
      "metadata": {
        "colab": {
          "base_uri": "https://localhost:8080/"
        },
        "id": "Ip6g3hbTIves",
        "outputId": "2cab280b-4ad8-422d-821d-c3c23c643123"
      },
      "outputs": [
        {
          "output_type": "stream",
          "name": "stdout",
          "text": [
            "Enter a string or number to check if it's a palindrome: 23\n",
            "'23' is not a palindrome.\n"
          ]
        }
      ],
      "source": [
        "def is_palindrome(s):\n",
        "  \"\"\"\n",
        "  Checks if a string or number is a palindrome.\n",
        "\n",
        "  Args:\n",
        "    s: The string or number to check.\n",
        "\n",
        "  Returns:\n",
        "    True if the string or number is a palindrome, False otherwise.\n",
        "  \"\"\"\n",
        "  # Convert to string and remove spaces for string input,\n",
        "  # or convert number to string directly\n",
        "  s_str = str(s).replace(\" \", \"\").lower()\n",
        "  return s_str == s_str[::-1]\n",
        "\n",
        "# Take input from the console\n",
        "user_input = input(\"Enter a string or number to check if it's a palindrome: \")\n",
        "\n",
        "# Use the function with user input\n",
        "if is_palindrome(user_input):\n",
        "  print(f\"'{user_input}' is a palindrome.\")\n",
        "else:\n",
        "  print(f\"'{user_input}' is not a palindrome.\")"
      ]
    }
  ]
}