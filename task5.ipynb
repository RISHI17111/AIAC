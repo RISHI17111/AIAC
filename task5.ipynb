{
  "nbformat": 4,
  "nbformat_minor": 0,
  "metadata": {
    "colab": {
      "provenance": [],
      "toc_visible": true,
      "authorship_tag": "ABX9TyPdAB3jh6eePHCU5JJS5+Mu",
      "include_colab_link": true
    },
    "kernelspec": {
      "name": "python3",
      "display_name": "Python 3"
    },
    "language_info": {
      "name": "python"
    }
  },
  "cells": [
    {
      "cell_type": "markdown",
      "metadata": {
        "id": "view-in-github",
        "colab_type": "text"
      },
      "source": [
        "<a href=\"https://colab.research.google.com/github/RISHI17111/AIAC/blob/main/task5.ipynb\" target=\"_parent\"><img src=\"https://colab.research.google.com/assets/colab-badge.svg\" alt=\"Open In Colab\"/></a>"
      ]
    },
    {
      "cell_type": "code",
      "execution_count": 1,
      "metadata": {
        "colab": {
          "base_uri": "https://localhost:8080/"
        },
        "id": "lDFr4fDcM4-4",
        "outputId": "abdd1697-0d42-4e67-e83a-45ed8c33b3ed"
      },
      "outputs": [
        {
          "output_type": "stream",
          "name": "stdout",
          "text": [
            "Enter a list of numbers separated by spaces: 18\n",
            "Sum of odd numbers: 0\n",
            "Sum of even numbers: 18\n"
          ]
        }
      ],
      "source": [
        "def calculate_odd_even_sum():\n",
        "    \"\"\"\n",
        "    Calculates the sum of odd and even numbers in a list provided by the user.\n",
        "    \"\"\"\n",
        "    input_list_str = input(\"Enter a list of numbers separated by spaces: \")\n",
        "    try:\n",
        "        numbers = [int(x) for x in input_list_str.split()]\n",
        "    except ValueError:\n",
        "        print(\"Invalid input. Please enter numbers separated by spaces.\")\n",
        "        return\n",
        "\n",
        "    odd_sum = 0\n",
        "    even_sum = 0\n",
        "\n",
        "    for number in numbers:\n",
        "        if number % 2 == 0:\n",
        "            even_sum += number\n",
        "        else:\n",
        "            odd_sum += number\n",
        "\n",
        "    print(f\"Sum of odd numbers: {odd_sum}\")\n",
        "    print(f\"Sum of even numbers: {even_sum}\")\n",
        "\n",
        "calculate_odd_even_sum()"
      ]
    }
  ]
}